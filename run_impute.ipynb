{
 "cells": [
  {
   "cell_type": "code",
   "execution_count": 4,
   "id": "f8cba28c",
   "metadata": {},
   "outputs": [],
   "source": [
    "import vpint_cloud_impute"
   ]
  },
  {
   "cell_type": "code",
   "execution_count": 5,
   "id": "fff82300",
   "metadata": {},
   "outputs": [],
   "source": [
    "folder_path = \"/home/walter_littor_al/geotools_sites/Fenfushi/coreg/targets\""
   ]
  },
  {
   "cell_type": "code",
   "execution_count": 6,
   "id": "e1078bf1",
   "metadata": {},
   "outputs": [
    {
     "name": "stderr",
     "output_type": "stream",
     "text": [
      "/home/walter_littor_al/VPint/VPint/utils/EO_utils.py:294: RuntimeWarning: load_tiff_windowed: No matching band descriptions found; falling back to sequential mapping by order.\n",
      "  warnings.warn(\n",
      "/opt/conda/envs/littoral_pipeline/lib/python3.10/site-packages/huggingface_hub/file_download.py:1132: FutureWarning: `resume_download` is deprecated and will be removed in version 1.0.0. Downloads always resume when possible. If you want to force a new download, use `force_download=True`.\n",
      "  warnings.warn(\n"
     ]
    },
    {
     "name": "stdout",
     "output_type": "stream",
     "text": [
      "Selected features image: 20240116T052149_20240116T053608_T43NBF.tif (cloud=0.030)\n",
      "Extracting 602x600 window at (0, 0)\n",
      "[OK] Saved: /home/walter_littor_al/geotools_sites/Fenfushi/coreg/targets/cloudless/20240116T052149_20240116T053608_T43NBF_pred.tif\n",
      "Extracting 602x600 window at (0, 0)\n",
      "[OK] Saved: /home/walter_littor_al/geotools_sites/Fenfushi/coreg/targets/cloudless/20240121T052111_20240121T053340_T43NBF_pred.tif\n",
      "Extracting 602x600 window at (0, 0)\n",
      "[OK] Saved: /home/walter_littor_al/geotools_sites/Fenfushi/coreg/targets/cloudless/20240121T052111_20240121T053340_T43NBG_pred.tif\n",
      "Extracting 602x600 window at (0, 0)\n",
      "[OK] Saved: /home/walter_littor_al/geotools_sites/Fenfushi/coreg/targets/cloudless/20240126T052109_20240126T053414_T43NBG_pred.tif\n",
      "[OK] Report saved: /home/walter_littor_al/geotools_sites/Fenfushi/coreg/targets/cloudless/cloudless_report.csv\n"
     ]
    },
    {
     "data": {
      "text/plain": [
       "['/home/walter_littor_al/geotools_sites/Fenfushi/coreg/targets/cloudless/20240116T052149_20240116T053608_T43NBF_pred.tif',\n",
       " '/home/walter_littor_al/geotools_sites/Fenfushi/coreg/targets/cloudless/20240121T052111_20240121T053340_T43NBF_pred.tif',\n",
       " '/home/walter_littor_al/geotools_sites/Fenfushi/coreg/targets/cloudless/20240121T052111_20240121T053340_T43NBG_pred.tif',\n",
       " '/home/walter_littor_al/geotools_sites/Fenfushi/coreg/targets/cloudless/20240126T052109_20240126T053414_T43NBG_pred.tif']"
      ]
     },
     "execution_count": 6,
     "metadata": {},
     "output_type": "execute_result"
    }
   ],
   "source": [
    "vpint_cloud_impute.batch_remove_clouds_folder(folder_path)"
   ]
  }
 ],
 "metadata": {
  "kernelspec": {
   "display_name": "littoral_pipeline",
   "language": "python",
   "name": "python3"
  },
  "language_info": {
   "codemirror_mode": {
    "name": "ipython",
    "version": 3
   },
   "file_extension": ".py",
   "mimetype": "text/x-python",
   "name": "python",
   "nbconvert_exporter": "python",
   "pygments_lexer": "ipython3",
   "version": "3.10.12"
  }
 },
 "nbformat": 4,
 "nbformat_minor": 5
}
