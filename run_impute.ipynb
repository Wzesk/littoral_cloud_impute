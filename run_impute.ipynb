{
 "cells": [
  {
   "cell_type": "code",
   "execution_count": 3,
   "id": "f8cba28c",
   "metadata": {},
   "outputs": [],
   "source": [
    "import vpint_cloud_impute\n"
   ]
  },
  {
   "cell_type": "code",
   "execution_count": 2,
   "id": "fff82300",
   "metadata": {},
   "outputs": [],
   "source": [
    "folder_path = \"/home/walter_littor_al/geotools_sites/Fenfushi/coreg/targets\""
   ]
  },
  {
   "cell_type": "code",
   "execution_count": null,
   "id": "e1078bf1",
   "metadata": {},
   "outputs": [],
   "source": [
    "vpint_cloud_impute.batch_impute_clouds(folder_path)"
   ]
  }
 ],
 "metadata": {
  "kernelspec": {
   "display_name": "littoral_pipeline",
   "language": "python",
   "name": "python3"
  },
  "language_info": {
   "codemirror_mode": {
    "name": "ipython",
    "version": 3
   },
   "file_extension": ".py",
   "mimetype": "text/x-python",
   "name": "python",
   "nbconvert_exporter": "python",
   "pygments_lexer": "ipython3",
   "version": "3.10.12"
  }
 },
 "nbformat": 4,
 "nbformat_minor": 5
}
